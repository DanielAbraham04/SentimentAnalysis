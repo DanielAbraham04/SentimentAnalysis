{
 "cells": [
  {
   "cell_type": "code",
   "execution_count": 1,
   "id": "704146df",
   "metadata": {},
   "outputs": [],
   "source": [
    "import pandas as pd\n",
    "import numpy as np\n",
    "import nltk\n",
    "import re\n",
    "import os\n",
    "from sklearn import *\n",
    "import time\n",
    "from nltk.stem import WordNetLemmatizer\n",
    "from sklearn.feature_extraction.text import TfidfVectorizer\n",
    "from sklearn.naive_bayes import MultinomialNB\n",
    "from nltk.stem import WordNetLemmatizer\n",
    "from sklearn.ensemble import RandomForestClassifier\n",
    "from sklearn.model_selection import cross_val_score, cross_validate\n",
    "from sklearn.metrics import accuracy_score, classification_report, make_scorer\n",
    "from sklearn.pipeline import make_pipeline\n",
    "from sklearn.metrics import f1_score, precision_score, recall_score, confusion_matrix, ConfusionMatrixDisplay\n",
    "\n",
    "from transformers import AutoModelForSequenceClassification\n",
    "from transformers import AutoTokenizer, AutoConfig\n",
    "from scipy.special import softmax\n"
   ]
  },
  {
   "cell_type": "code",
   "execution_count": 9,
   "id": "0069059a",
   "metadata": {},
   "outputs": [],
   "source": [
    "custom_stopwords = [\n",
    "    'a', 'about', 'above', 'after', 'again', 'against', 'all', 'am', 'an', 'and', 'any', 'are', 'as', 'at', \n",
    "    'be', 'because', 'been', 'before', 'being', 'below', 'between', 'both', 'but', 'by', \n",
    "    'can', 'could','did', 'do', 'does', 'doing', 'down', 'during', \n",
    "    'each', 'few', 'for', 'from', 'further', \n",
    "    'had', 'has', 'have', 'having', 'he', 'her', 'here', 'hers', 'herself', 'him', 'himself', 'his', 'how', \n",
    "    'i', 'if', 'in', 'into', 'is', 'it', 'its', 'itself', \n",
    "    'me', 'more', 'most', 'my', 'myself', \n",
    "    'nor', 'of', 'off', 'on', 'once', 'only', 'or', 'other', 'ought', 'our', 'ours', 'ourselves', 'out', 'over', 'own', \n",
    "    'same', 'she', 'should', 'so', 'some', 'such', \n",
    "    'than', 'that', 'the', 'their', 'theirs', 'them', 'themselves', 'then', 'there', \"there's\", 'these', 'they', \n",
    "    'this', 'those', 'through', 'to', 'too', 'under', 'until', 'up', 'very', \n",
    "    'was', 'we', 'were', 'what', 'when', 'where', 'which', 'while', 'who', 'whom', 'why', 'will', 'with', 'would', \n",
    "    'you', 'your', 'yours', 'yourself', 'yourselves'\n",
    "]\n",
    "\n",
    "def pre_processing(tweets_raw):\n",
    "\tcleanTweets = []\n",
    "\tfor tweet in tweets_raw:\n",
    "\t\ttweet = str(tweet).lower() #convert to lowercase\n",
    "\t\ttweet = re.sub(r\"let\\'s'\", \"lets\", tweet)\n",
    "\t\ttweet = re.sub(r\"won\\'t\", \"will not\", tweet)\n",
    "\t\ttweet = re.sub(r\"can\\'t\", \"can not\", tweet)\n",
    "\t\ttweet = re.sub(r\"n\\'t\", \" not\", tweet)\n",
    "\t\ttweet = re.sub(r\"\\'re\", \" are\", tweet)\n",
    "\t\ttweet = re.sub(r\"\\'s\", \" is\", tweet)\n",
    "\t\ttweet = re.sub(r\"\\'d\", \" would\", tweet)\n",
    "\t\ttweet = re.sub(r\"\\'ll\", \" will\", tweet)\n",
    "\t\ttweet = re.sub(r\"\\'t\", \" not\", tweet)\n",
    "\t\ttweet = re.sub(r\"\\'ve\", \" have\", tweet)\n",
    "\t\ttweet = re.sub(r\"\\'d\", \" had\", tweet)\n",
    "\t\ttweet = re.sub(r\"\\'m\", \" am\", tweet)\n",
    "\t\ttweet = re.sub(r\"-\", \" \", tweet)\n",
    "\t\ttweet = re.sub(r'https?://\\S+|www\\.\\S+', '', tweet)\n",
    "\t\ttweet = re.sub(r'@\\w+', '', tweet)\n",
    "\t\ttweet = re.sub('<[^<]+?>', '', tweet) #remove HTML tags\n",
    "\t\ttweet = re.sub(r'[<>!#@$:.,%?\\-]+', r'', tweet) #remove punctuation and special characters \n",
    "\t\ttweet = tweet.replace(\" rt \", \"\")\n",
    "\t\twords = tweet.split()\n",
    "# \t\twords = [word for word in words if (word in spell or not spell.unknown([word]) or word == 'obama') and word.isalpha()]\n",
    "\t\tlemmatizer = WordNetLemmatizer()\n",
    "\t\twords = [lemmatizer.lemmatize(word) for word in words if word not in custom_stopwords and word.isalpha()]\n",
    "\t\tcleanTweet = ' '.join(words).replace(\"'\", \"\").replace('“', \"\").replace('\"', \"\")\n",
    "\t\tcleanTweets.append(cleanTweet)\n",
    "\treturn cleanTweets"
   ]
  },
  {
   "cell_type": "code",
   "execution_count": 19,
   "id": "9b25f9ae",
   "metadata": {},
   "outputs": [],
   "source": [
    "training_file_obama = \"Obama_Training_Data_Preprocessed.csv\"\n",
    "training_file_romney = \"Romney_Training_Data_Preprocessed.csv\"\n",
    "df_obama = pd.read_csv(training_file_obama)\n",
    "df_romney = pd.read_csv(training_file_romney)\n",
    "\n",
    "d={'Neutral':0,'Positive':1,'Negative':1}\n",
    "\n",
    "df_obama.columns = ['id','RawTweet','Class']\n",
    "df_romney.columns = ['id','RawTweet','Class']\n",
    "df_obama['Class'] = df_obama['Class'].map(d)\n",
    "df_romney['Class'] = df_romney['Class'].map(d)\n",
    "\n",
    "obama_tweets_raw = df_obama['RawTweet']\n",
    "obama_class = df_obama['Class']\n",
    "romney_tweets_raw = df_romney['RawTweet']\n",
    "romney_class = df_romney['Class']\n",
    "\n",
    "obama_tweets = obama_tweets_raw.tolist()\n",
    "romney_tweets = romney_tweets_raw.tolist()\n",
    "obama_class_train = obama_class.tolist()\n",
    "romney_class_train = romney_class.tolist()\n",
    "\n",
    "# romney_tweets = pre_processing(romney_tweets_raw) \n",
    "# obama_tweets = pre_processing(obama_tweets_raw) "
   ]
  },
  {
   "cell_type": "code",
   "execution_count": 20,
   "id": "ca6eae51",
   "metadata": {},
   "outputs": [
    {
     "data": {
      "text/html": [
       "<style>#sk-container-id-5 {color: black;}#sk-container-id-5 pre{padding: 0;}#sk-container-id-5 div.sk-toggleable {background-color: white;}#sk-container-id-5 label.sk-toggleable__label {cursor: pointer;display: block;width: 100%;margin-bottom: 0;padding: 0.3em;box-sizing: border-box;text-align: center;}#sk-container-id-5 label.sk-toggleable__label-arrow:before {content: \"▸\";float: left;margin-right: 0.25em;color: #696969;}#sk-container-id-5 label.sk-toggleable__label-arrow:hover:before {color: black;}#sk-container-id-5 div.sk-estimator:hover label.sk-toggleable__label-arrow:before {color: black;}#sk-container-id-5 div.sk-toggleable__content {max-height: 0;max-width: 0;overflow: hidden;text-align: left;background-color: #f0f8ff;}#sk-container-id-5 div.sk-toggleable__content pre {margin: 0.2em;color: black;border-radius: 0.25em;background-color: #f0f8ff;}#sk-container-id-5 input.sk-toggleable__control:checked~div.sk-toggleable__content {max-height: 200px;max-width: 100%;overflow: auto;}#sk-container-id-5 input.sk-toggleable__control:checked~label.sk-toggleable__label-arrow:before {content: \"▾\";}#sk-container-id-5 div.sk-estimator input.sk-toggleable__control:checked~label.sk-toggleable__label {background-color: #d4ebff;}#sk-container-id-5 div.sk-label input.sk-toggleable__control:checked~label.sk-toggleable__label {background-color: #d4ebff;}#sk-container-id-5 input.sk-hidden--visually {border: 0;clip: rect(1px 1px 1px 1px);clip: rect(1px, 1px, 1px, 1px);height: 1px;margin: -1px;overflow: hidden;padding: 0;position: absolute;width: 1px;}#sk-container-id-5 div.sk-estimator {font-family: monospace;background-color: #f0f8ff;border: 1px dotted black;border-radius: 0.25em;box-sizing: border-box;margin-bottom: 0.5em;}#sk-container-id-5 div.sk-estimator:hover {background-color: #d4ebff;}#sk-container-id-5 div.sk-parallel-item::after {content: \"\";width: 100%;border-bottom: 1px solid gray;flex-grow: 1;}#sk-container-id-5 div.sk-label:hover label.sk-toggleable__label {background-color: #d4ebff;}#sk-container-id-5 div.sk-serial::before {content: \"\";position: absolute;border-left: 1px solid gray;box-sizing: border-box;top: 0;bottom: 0;left: 50%;z-index: 0;}#sk-container-id-5 div.sk-serial {display: flex;flex-direction: column;align-items: center;background-color: white;padding-right: 0.2em;padding-left: 0.2em;position: relative;}#sk-container-id-5 div.sk-item {position: relative;z-index: 1;}#sk-container-id-5 div.sk-parallel {display: flex;align-items: stretch;justify-content: center;background-color: white;position: relative;}#sk-container-id-5 div.sk-item::before, #sk-container-id-5 div.sk-parallel-item::before {content: \"\";position: absolute;border-left: 1px solid gray;box-sizing: border-box;top: 0;bottom: 0;left: 50%;z-index: -1;}#sk-container-id-5 div.sk-parallel-item {display: flex;flex-direction: column;z-index: 1;position: relative;background-color: white;}#sk-container-id-5 div.sk-parallel-item:first-child::after {align-self: flex-end;width: 50%;}#sk-container-id-5 div.sk-parallel-item:last-child::after {align-self: flex-start;width: 50%;}#sk-container-id-5 div.sk-parallel-item:only-child::after {width: 0;}#sk-container-id-5 div.sk-dashed-wrapped {border: 1px dashed gray;margin: 0 0.4em 0.5em 0.4em;box-sizing: border-box;padding-bottom: 0.4em;background-color: white;}#sk-container-id-5 div.sk-label label {font-family: monospace;font-weight: bold;display: inline-block;line-height: 1.2em;}#sk-container-id-5 div.sk-label-container {text-align: center;}#sk-container-id-5 div.sk-container {/* jupyter's `normalize.less` sets `[hidden] { display: none; }` but bootstrap.min.css set `[hidden] { display: none !important; }` so we also need the `!important` here to be able to override the default hidden behavior on the sphinx rendered scikit-learn.org. See: https://github.com/scikit-learn/scikit-learn/issues/21755 */display: inline-block !important;position: relative;}#sk-container-id-5 div.sk-text-repr-fallback {display: none;}</style><div id=\"sk-container-id-5\" class=\"sk-top-container\"><div class=\"sk-text-repr-fallback\"><pre>MultinomialNB()</pre><b>In a Jupyter environment, please rerun this cell to show the HTML representation or trust the notebook. <br />On GitHub, the HTML representation is unable to render, please try loading this page with nbviewer.org.</b></div><div class=\"sk-container\" hidden><div class=\"sk-item\"><div class=\"sk-estimator sk-toggleable\"><input class=\"sk-toggleable__control sk-hidden--visually\" id=\"sk-estimator-id-5\" type=\"checkbox\" checked><label for=\"sk-estimator-id-5\" class=\"sk-toggleable__label sk-toggleable__label-arrow\">MultinomialNB</label><div class=\"sk-toggleable__content\"><pre>MultinomialNB()</pre></div></div></div></div></div>"
      ],
      "text/plain": [
       "MultinomialNB()"
      ]
     },
     "execution_count": 20,
     "metadata": {},
     "output_type": "execute_result"
    }
   ],
   "source": [
    "tfidf_vectorizer_obama = TfidfVectorizer()\n",
    "\n",
    "X_obama = tfidf_vectorizer_obama.fit_transform(obama_tweets)  # Fit and transform Obama's training data\n",
    "\n",
    "clf_obama = MultinomialNB()\n",
    "clf_obama.fit(X_obama, obama_class_train)"
   ]
  },
  {
   "cell_type": "code",
   "execution_count": 21,
   "id": "a5391543",
   "metadata": {},
   "outputs": [
    {
     "name": "stdout",
     "output_type": "stream",
     "text": [
      "OBAMA MODEL\n",
      "Accuracy: 0.67 (+/- 0.01)\n",
      "Precision: 0.68 (+/- 0.05)\n",
      "Recall: 0.54 (+/- 0.02)\n",
      "F1 Score: 0.49 (+/- 0.03)\n"
     ]
    }
   ],
   "source": [
    "pipeline = make_pipeline(tfidf_vectorizer_obama, clf_obama)\n",
    "\n",
    "# Perform 5-fold cross-validation\n",
    "# Here 'obama_class_train' should be the labels for your training data\n",
    "scores = cross_validate(pipeline, obama_tweets, obama_class_train, cv=5,\n",
    "                        scoring=['accuracy', 'precision_macro', 'recall_macro', 'f1_macro'],\n",
    "                        return_train_score=False)\n",
    "\n",
    "# Print the scores\n",
    "print(\"OBAMA MODEL\")\n",
    "print(\"Accuracy: %0.2f (+/- %0.2f)\" % (scores['test_accuracy'].mean(), scores['test_accuracy'].std() * 2))\n",
    "print(\"Precision: %0.2f (+/- %0.2f)\" % (scores['test_precision_macro'].mean(), scores['test_precision_macro'].std() * 2))\n",
    "print(\"Recall: %0.2f (+/- %0.2f)\" % (scores['test_recall_macro'].mean(), scores['test_recall_macro'].std() * 2))\n",
    "print(\"F1 Score: %0.2f (+/- %0.2f)\" % (scores['test_f1_macro'].mean(), scores['test_f1_macro'].std() * 2))"
   ]
  },
  {
   "cell_type": "code",
   "execution_count": 22,
   "id": "7ec544a0",
   "metadata": {},
   "outputs": [
    {
     "data": {
      "text/html": [
       "<style>#sk-container-id-6 {color: black;}#sk-container-id-6 pre{padding: 0;}#sk-container-id-6 div.sk-toggleable {background-color: white;}#sk-container-id-6 label.sk-toggleable__label {cursor: pointer;display: block;width: 100%;margin-bottom: 0;padding: 0.3em;box-sizing: border-box;text-align: center;}#sk-container-id-6 label.sk-toggleable__label-arrow:before {content: \"▸\";float: left;margin-right: 0.25em;color: #696969;}#sk-container-id-6 label.sk-toggleable__label-arrow:hover:before {color: black;}#sk-container-id-6 div.sk-estimator:hover label.sk-toggleable__label-arrow:before {color: black;}#sk-container-id-6 div.sk-toggleable__content {max-height: 0;max-width: 0;overflow: hidden;text-align: left;background-color: #f0f8ff;}#sk-container-id-6 div.sk-toggleable__content pre {margin: 0.2em;color: black;border-radius: 0.25em;background-color: #f0f8ff;}#sk-container-id-6 input.sk-toggleable__control:checked~div.sk-toggleable__content {max-height: 200px;max-width: 100%;overflow: auto;}#sk-container-id-6 input.sk-toggleable__control:checked~label.sk-toggleable__label-arrow:before {content: \"▾\";}#sk-container-id-6 div.sk-estimator input.sk-toggleable__control:checked~label.sk-toggleable__label {background-color: #d4ebff;}#sk-container-id-6 div.sk-label input.sk-toggleable__control:checked~label.sk-toggleable__label {background-color: #d4ebff;}#sk-container-id-6 input.sk-hidden--visually {border: 0;clip: rect(1px 1px 1px 1px);clip: rect(1px, 1px, 1px, 1px);height: 1px;margin: -1px;overflow: hidden;padding: 0;position: absolute;width: 1px;}#sk-container-id-6 div.sk-estimator {font-family: monospace;background-color: #f0f8ff;border: 1px dotted black;border-radius: 0.25em;box-sizing: border-box;margin-bottom: 0.5em;}#sk-container-id-6 div.sk-estimator:hover {background-color: #d4ebff;}#sk-container-id-6 div.sk-parallel-item::after {content: \"\";width: 100%;border-bottom: 1px solid gray;flex-grow: 1;}#sk-container-id-6 div.sk-label:hover label.sk-toggleable__label {background-color: #d4ebff;}#sk-container-id-6 div.sk-serial::before {content: \"\";position: absolute;border-left: 1px solid gray;box-sizing: border-box;top: 0;bottom: 0;left: 50%;z-index: 0;}#sk-container-id-6 div.sk-serial {display: flex;flex-direction: column;align-items: center;background-color: white;padding-right: 0.2em;padding-left: 0.2em;position: relative;}#sk-container-id-6 div.sk-item {position: relative;z-index: 1;}#sk-container-id-6 div.sk-parallel {display: flex;align-items: stretch;justify-content: center;background-color: white;position: relative;}#sk-container-id-6 div.sk-item::before, #sk-container-id-6 div.sk-parallel-item::before {content: \"\";position: absolute;border-left: 1px solid gray;box-sizing: border-box;top: 0;bottom: 0;left: 50%;z-index: -1;}#sk-container-id-6 div.sk-parallel-item {display: flex;flex-direction: column;z-index: 1;position: relative;background-color: white;}#sk-container-id-6 div.sk-parallel-item:first-child::after {align-self: flex-end;width: 50%;}#sk-container-id-6 div.sk-parallel-item:last-child::after {align-self: flex-start;width: 50%;}#sk-container-id-6 div.sk-parallel-item:only-child::after {width: 0;}#sk-container-id-6 div.sk-dashed-wrapped {border: 1px dashed gray;margin: 0 0.4em 0.5em 0.4em;box-sizing: border-box;padding-bottom: 0.4em;background-color: white;}#sk-container-id-6 div.sk-label label {font-family: monospace;font-weight: bold;display: inline-block;line-height: 1.2em;}#sk-container-id-6 div.sk-label-container {text-align: center;}#sk-container-id-6 div.sk-container {/* jupyter's `normalize.less` sets `[hidden] { display: none; }` but bootstrap.min.css set `[hidden] { display: none !important; }` so we also need the `!important` here to be able to override the default hidden behavior on the sphinx rendered scikit-learn.org. See: https://github.com/scikit-learn/scikit-learn/issues/21755 */display: inline-block !important;position: relative;}#sk-container-id-6 div.sk-text-repr-fallback {display: none;}</style><div id=\"sk-container-id-6\" class=\"sk-top-container\"><div class=\"sk-text-repr-fallback\"><pre>MultinomialNB()</pre><b>In a Jupyter environment, please rerun this cell to show the HTML representation or trust the notebook. <br />On GitHub, the HTML representation is unable to render, please try loading this page with nbviewer.org.</b></div><div class=\"sk-container\" hidden><div class=\"sk-item\"><div class=\"sk-estimator sk-toggleable\"><input class=\"sk-toggleable__control sk-hidden--visually\" id=\"sk-estimator-id-6\" type=\"checkbox\" checked><label for=\"sk-estimator-id-6\" class=\"sk-toggleable__label sk-toggleable__label-arrow\">MultinomialNB</label><div class=\"sk-toggleable__content\"><pre>MultinomialNB()</pre></div></div></div></div></div>"
      ],
      "text/plain": [
       "MultinomialNB()"
      ]
     },
     "execution_count": 22,
     "metadata": {},
     "output_type": "execute_result"
    }
   ],
   "source": [
    "tfidf_vectorizer_romney = TfidfVectorizer()\n",
    "\n",
    "X_romney = tfidf_vectorizer_romney.fit_transform(romney_tweets)\n",
    "\n",
    "clf_romney = MultinomialNB()\n",
    "clf_romney.fit(X_romney, romney_class_train)"
   ]
  },
  {
   "cell_type": "code",
   "execution_count": 23,
   "id": "f9b13561",
   "metadata": {},
   "outputs": [
    {
     "name": "stdout",
     "output_type": "stream",
     "text": [
      "ROMNEY MODEL\n",
      "Accuracy: 0.71 (+/- 0.01)\n",
      "Precision: 0.65 (+/- 0.08)\n",
      "Recall: 0.51 (+/- 0.01)\n",
      "F1 Score: 0.45 (+/- 0.02)\n"
     ]
    }
   ],
   "source": [
    "pipeline = make_pipeline(tfidf_vectorizer_romney, clf_romney)\n",
    "\n",
    "# Perform 5-fold cross-validation\n",
    "# Here 'obama_class_train' should be the labels for your training data\n",
    "scores = cross_validate(pipeline, romney_tweets, romney_class_train, cv=5,\n",
    "                        scoring=['accuracy', 'precision_macro', 'recall_macro', 'f1_macro'],\n",
    "                        return_train_score=False)\n",
    "\n",
    "# Print the scores\n",
    "print(\"ROMNEY MODEL\")\n",
    "print(\"Accuracy: %0.2f (+/- %0.2f)\" % (scores['test_accuracy'].mean(), scores['test_accuracy'].std() * 2))\n",
    "print(\"Precision: %0.2f (+/- %0.2f)\" % (scores['test_precision_macro'].mean(), scores['test_precision_macro'].std() * 2))\n",
    "print(\"Recall: %0.2f (+/- %0.2f)\" % (scores['test_recall_macro'].mean(), scores['test_recall_macro'].std() * 2))\n",
    "print(\"F1 Score: %0.2f (+/- %0.2f)\" % (scores['test_f1_macro'].mean(), scores['test_f1_macro'].std() * 2))"
   ]
  },
  {
   "cell_type": "code",
   "execution_count": 24,
   "id": "fe864d40",
   "metadata": {},
   "outputs": [],
   "source": [
    "\n",
    "# Load the testing data from Excel\n",
    "testing_file_o = \"/Users/danielabraham/Downloads/final-testData-no-label-tweets/final-testData-no-label-Obama-tweets.xlsx\"\n",
    "testing_file_r = \"/Users/danielabraham/Downloads/final-testData-no-label-tweets/final-testData-no-label-Romney-tweets.xlsx\"\n",
    "df_obama_test = pd.read_excel(testing_file_o, sheet_name='Obama', usecols=\"A,B\")\n",
    "df_romney_test = pd.read_excel(testing_file_r, sheet_name='Romney', usecols=\"A,B\")\n",
    "\n",
    "# Rename columns\n",
    "df_obama_test.columns = ['TID','RawTweet']\n",
    "df_romney_test.columns = ['TID','RawTweet']\n",
    "\n",
    "obama_tweets_raw_test = df_obama_test['RawTweet'].tolist()\n",
    "romney_tweets_raw_test = df_romney_test['RawTweet'].tolist()\n",
    "\n",
    "obama_test_tweets = pre_processing(obama_tweets_raw_test)\n",
    "romney_test_tweets = pre_processing(romney_tweets_raw_test)\n",
    "\n",
    "\n"
   ]
  },
  {
   "cell_type": "code",
   "execution_count": 25,
   "id": "253013b7",
   "metadata": {},
   "outputs": [],
   "source": [
    "X_obama_test = tfidf_vectorizer_obama.transform(obama_test_tweets)\n",
    "X_romney_test = tfidf_vectorizer_romney.transform(romney_test_tweets)"
   ]
  },
  {
   "cell_type": "code",
   "execution_count": 26,
   "id": "ac7d0f3d",
   "metadata": {},
   "outputs": [],
   "source": [
    "\n",
    "# Make predictions\n",
    "romney_test_predictions = clf_romney.predict(X_romney_test)\n",
    "\n",
    "# Combine predictions with tweet IDs\n",
    "output_df = pd.DataFrame({\n",
    "    'tweet_id': df_romney_test['TID'],\n",
    "    'predicted_class': romney_test_predictions\n",
    "})\n",
    "\n",
    "# Write the DataFrame to a text file\n",
    "output_df.to_csv('/Users/danielabraham/Desktop/romney_predictions.txt', sep=' ', index=False, header=False)"
   ]
  },
  {
   "cell_type": "code",
   "execution_count": 27,
   "id": "a0c723c7",
   "metadata": {},
   "outputs": [],
   "source": [
    "\n",
    "# Make predictions\n",
    "obama_test_predictions = clf_obama.predict(X_obama_test)\n",
    "\n",
    "# Combine predictions with tweet IDs\n",
    "output_df = pd.DataFrame({\n",
    "    'tweet_id': df_obama_test['TID'],\n",
    "    'predicted_class': obama_test_predictions\n",
    "})\n",
    "\n",
    "# Write the DataFrame to a text file\n",
    "output_df.to_csv('/Users/danielabraham/Desktop/obama_predictions.txt', sep=' ', index=False, header=False)"
   ]
  },
  {
   "cell_type": "code",
   "execution_count": 296,
   "id": "98b8d464",
   "metadata": {},
   "outputs": [
    {
     "data": {
      "application/vnd.jupyter.widget-view+json": {
       "model_id": "829d9ff7927c4c18ad44507194b1ff97",
       "version_major": 2,
       "version_minor": 0
      },
      "text/plain": [
       "Downloading config.json:   0%|          | 0.00/929 [00:00<?, ?B/s]"
      ]
     },
     "metadata": {},
     "output_type": "display_data"
    },
    {
     "data": {
      "application/vnd.jupyter.widget-view+json": {
       "model_id": "0bca9ff4633343f1b8438f7cf18300c9",
       "version_major": 2,
       "version_minor": 0
      },
      "text/plain": [
       "Downloading vocab.json:   0%|          | 0.00/899k [00:00<?, ?B/s]"
      ]
     },
     "metadata": {},
     "output_type": "display_data"
    },
    {
     "data": {
      "application/vnd.jupyter.widget-view+json": {
       "model_id": "338a7409106d42e49d3c8a9d7ceef249",
       "version_major": 2,
       "version_minor": 0
      },
      "text/plain": [
       "Downloading merges.txt:   0%|          | 0.00/456k [00:00<?, ?B/s]"
      ]
     },
     "metadata": {},
     "output_type": "display_data"
    },
    {
     "data": {
      "application/vnd.jupyter.widget-view+json": {
       "model_id": "3dbce285b3cd473d896a3af7abacf4ab",
       "version_major": 2,
       "version_minor": 0
      },
      "text/plain": [
       "Downloading (…)cial_tokens_map.json:   0%|          | 0.00/239 [00:00<?, ?B/s]"
      ]
     },
     "metadata": {},
     "output_type": "display_data"
    },
    {
     "data": {
      "application/vnd.jupyter.widget-view+json": {
       "model_id": "e7da7d463ead44a4a7d910aae001bf40",
       "version_major": 2,
       "version_minor": 0
      },
      "text/plain": [
       "Downloading pytorch_model.bin:   0%|          | 0.00/501M [00:00<?, ?B/s]"
      ]
     },
     "metadata": {},
     "output_type": "display_data"
    },
    {
     "name": "stderr",
     "output_type": "stream",
     "text": [
      "Some weights of the model checkpoint at cardiffnlp/twitter-roberta-base-sentiment-latest were not used when initializing RobertaForSequenceClassification: ['roberta.pooler.dense.bias', 'roberta.pooler.dense.weight']\n",
      "- This IS expected if you are initializing RobertaForSequenceClassification from the checkpoint of a model trained on another task or with another architecture (e.g. initializing a BertForSequenceClassification model from a BertForPreTraining model).\n",
      "- This IS NOT expected if you are initializing RobertaForSequenceClassification from the checkpoint of a model that you expect to be exactly identical (initializing a BertForSequenceClassification model from a BertForSequenceClassification model).\n"
     ]
    }
   ],
   "source": [
    "MODEL = f\"cardiffnlp/twitter-roberta-base-sentiment-latest\"\n",
    "tokenizer = AutoTokenizer.from_pretrained(MODEL)\n",
    "config = AutoConfig.from_pretrained(MODEL)\n",
    "model = AutoModelForSequenceClassification.from_pretrained(MODEL)\n",
    "#model.save_pretrained(MODEL)\n",
    "\n",
    "sc = {'positive': [], 'neutral': [], 'negative': []}\n",
    "\n",
    "for tweet in obama_tweets:\n",
    "    encoded_input = tokenizer(tweet, return_tensors='pt')\n",
    "    output = model(**encoded_input)\n",
    "    scores = output[0][0].detach().numpy()\n",
    "    scores = softmax(scores)\n",
    "    ranking = np.argsort(scores)\n",
    "    ranking = ranking[::-1]\n",
    "\n",
    "    for i in range(scores.shape[0]):\n",
    "        l = config.id2label[ranking[i]]\n",
    "        s = scores[ranking[i]]\n",
    "        sc[l].append(s)"
   ]
  },
  {
   "cell_type": "code",
   "execution_count": 297,
   "id": "62ad4ff4",
   "metadata": {},
   "outputs": [],
   "source": [
    "df_obama['positive'] = sc['positive']\n",
    "df_obama['neutral'] = sc['neutral']\n",
    "df_obama['negative'] = sc['negative']\n",
    "df_obama.rename(columns={'positive': 'pos', 'neutral': 'neu', 'negative': 'neg'}, inplace=True)"
   ]
  },
  {
   "cell_type": "code",
   "execution_count": 298,
   "id": "3a76b8a4",
   "metadata": {},
   "outputs": [],
   "source": [
    "preds = list()\n",
    "for idx, row in df_obama.iterrows():\n",
    "    if row['pos'] >= row['neu'] and row['pos'] >= row['neg']:\n",
    "        preds.append(1)\n",
    "    elif row['neg'] >= row['neu'] and row['neg'] > row['pos']:\n",
    "        preds.append(-1)\n",
    "    elif row['neu'] > row['pos'] and row['neu'] > row['neg']:\n",
    "        preds.append(0)\n",
    "df_obama['pred'] = preds"
   ]
  },
  {
   "cell_type": "code",
   "execution_count": 301,
   "id": "9a8e4756",
   "metadata": {},
   "outputs": [
    {
     "name": "stdout",
     "output_type": "stream",
     "text": [
      "Accuracy: 0.5436722983742429\n",
      "Precision: [0.61886136 0.45776976 0.71826625]\n",
      "Recall: [0.63713647 0.6979835  0.24986537]\n",
      "F1: [0.62786596 0.55291341 0.37075509]\n"
     ]
    }
   ],
   "source": [
    "acc = accuracy_score(obama_class_train, df_obama['pred'])\n",
    "prec = precision_score(obama_class_train, df_obama['pred'], average = None, zero_division = np.nan)\n",
    "rec = recall_score(obama_class_train, df_obama['pred'], average = None)\n",
    "f1 = f1_score(obama_class_train, df_obama['pred'], average = None)\n",
    "print(\"Accuracy:\", acc)\n",
    "print(\"Precision:\", prec)\n",
    "print(\"Recall:\", rec)\n",
    "print(\"F1:\", f1)"
   ]
  },
  {
   "cell_type": "code",
   "execution_count": null,
   "id": "13fdc280",
   "metadata": {},
   "outputs": [],
   "source": []
  }
 ],
 "metadata": {
  "kernelspec": {
   "display_name": "Python 3 (ipykernel)",
   "language": "python",
   "name": "python3"
  },
  "language_info": {
   "codemirror_mode": {
    "name": "ipython",
    "version": 3
   },
   "file_extension": ".py",
   "mimetype": "text/x-python",
   "name": "python",
   "nbconvert_exporter": "python",
   "pygments_lexer": "ipython3",
   "version": "3.11.4"
  }
 },
 "nbformat": 4,
 "nbformat_minor": 5
}
